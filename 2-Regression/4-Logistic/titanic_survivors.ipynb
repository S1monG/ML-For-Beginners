{
 "cells": [
  {
   "cell_type": "markdown",
   "metadata": {},
   "source": [
    "## Titanic survival\n",
    "# Using logistic regression models to predict the survival chance of titanic based on different factors"
   ]
  },
  {
   "cell_type": "code",
   "execution_count": 76,
   "metadata": {},
   "outputs": [],
   "source": [
    "import pandas as pd\n",
    "import numpy as np\n",
    "from sklearn.linear_model import LogisticRegression\n",
    "from sklearn.model_selection import train_test_split\n",
    "from sklearn.preprocessing import OneHotEncoder, LabelEncoder\n",
    "from sklearn.compose import ColumnTransformer"
   ]
  },
  {
   "cell_type": "code",
   "execution_count": 77,
   "metadata": {},
   "outputs": [],
   "source": [
    "full_titanic = pd.read_csv(\"../data/titanic.csv\")\n",
    "columns_to_select = ['Survived', 'Age', 'Sex']\n",
    "titanic = full_titanic.loc[:, columns_to_select]\n",
    "titanic.dropna(inplace=True)"
   ]
  },
  {
   "cell_type": "code",
   "execution_count": 78,
   "metadata": {},
   "outputs": [],
   "source": [
    "## Preprocessing and enconding\n",
    "\n",
    "for age in (0, 18, 25, 40, 60, 100):\n",
    "    titanic.loc[(titanic['Age'] <= age), 'Age'] = age\n",
    "\n",
    "categorical_features = ['Sex','Age']\n",
    "categorical_encoder = OneHotEncoder(sparse_output=False)\n",
    "\n",
    "preprocessor = ColumnTransformer(transformers=[\n",
    "    ('categorical', categorical_encoder, categorical_features)\n",
    "    ])\n",
    "\n",
    "preprocessor.set_output(transform='pandas')\n",
    "encoded_features = preprocessor.fit_transform(titanic)\n",
    "\n",
    "label_encoder = LabelEncoder()\n",
    "encoded_label = label_encoder.fit_transform(titanic['Survived'])\n",
    "encoded_titanic = encoded_features.assign(Survived=encoded_label)"
   ]
  },
  {
   "cell_type": "code",
   "execution_count": 80,
   "metadata": {},
   "outputs": [
    {
     "name": "stdout",
     "output_type": "stream",
     "text": [
      "Mean error: 0.473 (1.24%)\n",
      "Model determination:  0.7813084112149533\n"
     ]
    }
   ],
   "source": [
    "X = encoded_titanic[encoded_titanic.columns.difference(['Survived'])]\n",
    "y = encoded_titanic['Survived']\n",
    "X_train, X_test, y_train, y_test = train_test_split(X, y, random_state=0)\n",
    "\n",
    "model = LogisticRegression()\n",
    "model.fit(X_train, y_train)\n",
    "y_pred = model.predict(X_test)\n",
    "\n",
    "# Cant plot because x is multidimensional\n",
    "\n",
    "# model metrics\n",
    "from sklearn.metrics import mean_squared_error\n",
    "\n",
    "mse = np.sqrt(mean_squared_error(y_test,y_pred))\n",
    "print(f'Mean error: {mse:3.3} ({mse/np.mean(y_pred)*100:3.3}%)')\n",
    "\n",
    "score = model.score(X_train,y_train)\n",
    "print('Model determination: ', score)\n"
   ]
  }
 ],
 "metadata": {
  "kernelspec": {
   "display_name": "Python 3",
   "language": "python",
   "name": "python3"
  },
  "language_info": {
   "codemirror_mode": {
    "name": "ipython",
    "version": 3
   },
   "file_extension": ".py",
   "mimetype": "text/x-python",
   "name": "python",
   "nbconvert_exporter": "python",
   "pygments_lexer": "ipython3",
   "version": "3.10.11"
  }
 },
 "nbformat": 4,
 "nbformat_minor": 2
}
